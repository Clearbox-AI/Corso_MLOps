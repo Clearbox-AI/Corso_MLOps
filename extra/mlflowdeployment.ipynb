{
 "cells": [
  {
   "cell_type": "markdown",
   "metadata": {},
   "source": [
    "# Reloading the stored model"
   ]
  },
  {
   "cell_type": "code",
   "execution_count": null,
   "metadata": {},
   "outputs": [],
   "source": [
    "import mlflow\n",
    "import pandas as pd\n",
    "\n",
    "saved_model_path=\"best_model\"\n",
    "reloaded_model = mlflow.sklearn.load_model(model_uri=saved_model_path)"
   ]
  },
  {
   "cell_type": "code",
   "execution_count": 2,
   "metadata": {},
   "outputs": [],
   "source": [
    "test_csv_path = './data/adult_test.csv'\n",
    "test_dataset = pd.read_csv(test_csv_path)\n",
    "target_column = 'income'\n",
    "y_test = test_dataset[target_column]\n",
    "x_test = test_dataset.drop(target_column, axis=1)\n"
   ]
  },
  {
   "cell_type": "code",
   "execution_count": 3,
   "metadata": {},
   "outputs": [
    {
     "name": "stdout",
     "output_type": "stream",
     "text": [
      "0.8511397423191278\n"
     ]
    }
   ],
   "source": [
    "print(reloaded_model.score(x_test,y_test))"
   ]
  },
  {
   "cell_type": "markdown",
   "metadata": {},
   "source": [
    "# Creating a docker container from the stored model"
   ]
  },
  {
   "cell_type": "markdown",
   "metadata": {},
   "source": [
    "We can build a docker image containing the model using mlflow's cli:\n",
    "\n",
    "!mlflow models build-docker -m \"./best_model\" -n \"random_forest_adult\"\n"
   ]
  },
  {
   "cell_type": "code",
   "execution_count": 4,
   "metadata": {},
   "outputs": [],
   "source": [
    "#docker run -p 5001:8080 random_forest_adult"
   ]
  },
  {
   "cell_type": "code",
   "execution_count": 5,
   "metadata": {},
   "outputs": [
    {
     "name": "stdout",
     "output_type": "stream",
     "text": [
      "{'columns': ['age', 'work_class', 'education', 'marital_status', 'occupation', 'relationship', 'race', 'sex', 'capital_gain', 'capital_loss', 'hours_per_week', 'native_country'], 'data': [[39, 'State-gov', 'Bachelors', 'Never-Married', 'Admin', 'Not-in-family', 'White', 'Male', 2174, 0, 40, 'United-States']]}\n"
     ]
    }
   ],
   "source": [
    "import requests\n",
    "import json\n",
    "\n",
    "\n",
    "with open('./best_model/input_example.json') as f:\n",
    "    sample_input = json.load(f)\n",
    "\n",
    "#sample_input['data'][0][0]=50 # changing age value\n",
    "#sample_input['data'][0][3]='Married' # changing age value\n",
    "#sample_input['data'][0][5]='Husband' # changing age value\n",
    "print(sample_input)"
   ]
  },
  {
   "cell_type": "code",
   "execution_count": null,
   "metadata": {},
   "outputs": [],
   "source": [
    "response = requests.post(\n",
    "              url='http://127.0.0.1:5001/invocations', data=json.dumps(sample_input),\n",
    "              headers={\"Content-type\": \"application/json\"})\n",
    "response_json = json.loads(response.text)\n",
    "print('Predicted income: '+response_json[0])"
   ]
  },
  {
   "cell_type": "code",
   "execution_count": null,
   "metadata": {},
   "outputs": [],
   "source": []
  },
  {
   "cell_type": "code",
   "execution_count": null,
   "metadata": {},
   "outputs": [],
   "source": []
  }
 ],
 "metadata": {
  "kernelspec": {
   "display_name": "Python 3",
   "language": "python",
   "name": "python3"
  },
  "language_info": {
   "codemirror_mode": {
    "name": "ipython",
    "version": 3
   },
   "file_extension": ".py",
   "mimetype": "text/x-python",
   "name": "python",
   "nbconvert_exporter": "python",
   "pygments_lexer": "ipython3",
   "version": "3.7.5"
  }
 },
 "nbformat": 4,
 "nbformat_minor": 4
}
