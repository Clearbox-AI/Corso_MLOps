{
 "cells": [
  {
   "cell_type": "code",
   "execution_count": 99,
   "metadata": {},
   "outputs": [],
   "source": [
    "import numpy as np\n",
    "import pandas as pd\n",
    "import joblib\n",
    "import matplotlib.pyplot as plt\n",
    "from sklearn.calibration import CalibratedClassifierCV\n",
    "from sklearn.calibration import calibration_curve\n",
    "from sklearn.compose import ColumnTransformer\n",
    "from sklearn.preprocessing import OneHotEncoder, StandardScaler, LabelEncoder\n",
    "from sklearn.impute import SimpleImputer\n",
    "from sklearn.pipeline import Pipeline\n",
    "from sklearn.ensemble import RandomForestClassifier,IsolationForest\n",
    "from sklearn.feature_extraction.text import _VectorizerMixin\n",
    "from sklearn.feature_selection._base import SelectorMixin\n",
    "from sklearn.neighbors import LocalOutlierFactor\n",
    "#clf = joblib.load('../model.pkl')"
   ]
  },
  {
   "cell_type": "markdown",
   "metadata": {},
   "source": [
    "Carichiamo il dataset utilizzato nelle sessioni precedenti"
   ]
  },
  {
   "cell_type": "code",
   "execution_count": 3,
   "metadata": {},
   "outputs": [],
   "source": [
    "train_data = pd.read_csv('../data/adult_training.csv')\n",
    "y_train = train_data['income']\n",
    "x_train = train_data.drop(['income'], axis =1)\n",
    "\n",
    "test_data = pd.read_csv('../data/adult_test.csv')\n",
    "y_test = test_data['income']\n",
    "x_test = test_data.drop(['income'], axis =1)"
   ]
  },
  {
   "cell_type": "markdown",
   "metadata": {},
   "source": [
    "Creiamo pre-processor e alleniamo modello"
   ]
  },
  {
   "cell_type": "code",
   "execution_count": 77,
   "metadata": {},
   "outputs": [
    {
     "data": {
      "text/plain": [
       "Pipeline(steps=[('preprocessing',\n",
       "                 ColumnTransformer(transformers=[('ord',\n",
       "                                                  Pipeline(steps=[('imputer',\n",
       "                                                                   SimpleImputer(strategy='median')),\n",
       "                                                                  ('scaler',\n",
       "                                                                   StandardScaler())]),\n",
       "                                                  Index(['age', 'capital_gain', 'capital_loss', 'hours_per_week'], dtype='object')),\n",
       "                                                 ('cat',\n",
       "                                                  Pipeline(steps=[('onehot',\n",
       "                                                                   OneHotEncoder(handle_unknown='ignore'))]),\n",
       "                                                  Index(['work_class', 'education', 'marital_status', 'occupation',\n",
       "       'relationship', 'race', 'sex', 'native_country'],\n",
       "      dtype='object'))])),\n",
       "                ('rf_model',\n",
       "                 RandomForestClassifier(criterion='entropy', max_depth=6,\n",
       "                                        min_samples_leaf=5, n_estimators=50))])"
      ]
     },
     "execution_count": 77,
     "metadata": {},
     "output_type": "execute_result"
    }
   ],
   "source": [
    "\n",
    "ordinal_features = x_train.select_dtypes(include=\"number\").columns\n",
    "categorical_features = x_train.select_dtypes(include=\"object\").columns\n",
    "\n",
    "ordinal_transformer = Pipeline(steps=[('imputer', SimpleImputer(strategy='median')),\n",
    "                                          ('scaler', StandardScaler())])\n",
    "\n",
    "categorical_transformer = Pipeline(steps=[('onehot', OneHotEncoder(handle_unknown='ignore'))])\n",
    "\n",
    "x_encoder = ColumnTransformer(transformers=[('ord', ordinal_transformer, ordinal_features),\n",
    "                                                ('cat', categorical_transformer, categorical_features)])\n",
    "\n",
    "\n",
    "x_encoder.fit(x_train)\n",
    "\n",
    "clf = RandomForestClassifier(n_estimators=50,max_depth=6,criterion=\"entropy\",min_samples_leaf=5)#.fit(x_encoder.transform(x_train),y_train)\n",
    "\n",
    "\n",
    "rf_pipeline = Pipeline(steps=[(\"preprocessing\", x_encoder), (\"rf_model\", clf)])\n",
    "rf_pipeline.fit(x_train, y_train)"
   ]
  },
  {
   "cell_type": "markdown",
   "metadata": {},
   "source": [
    "# Analisi calibrazione modello\n",
    "\n",
    "Utilizziamo la funzione *calibration_curve* da scikitlearn per valutare se siamo in presenza di un modello calibrato"
   ]
  },
  {
   "cell_type": "code",
   "execution_count": 5,
   "metadata": {},
   "outputs": [
    {
     "data": {
      "text/plain": [
       "<matplotlib.legend.Legend at 0x22682321280>"
      ]
     },
     "execution_count": 5,
     "metadata": {},
     "output_type": "execute_result"
    },
    {
     "data": {
      "image/png": "[encoded data removed]",
      "text/plain": [
       "<Figure size 432x288 with 1 Axes>"
      ]
     },
     "metadata": {
      "needs_background": "light"
     },
     "output_type": "display_data"
    }
   ],
   "source": [
    "p_true, p_pred = calibration_curve(y_test, clf.predict_proba(x_encoder.transform(x_test))[:, 1])\n",
    "\n",
    "plt.plot(p_pred, p_true, label='model')\n",
    "plt.plot(np.arange(0,1.1,0.1),np.arange(0,1.1,0.1), label='perfectly_calibrated')\n",
    "plt.xlim([0,1])\n",
    "plt.ylim([0,1])\n",
    "plt.xlabel('Mean predicted value')\n",
    "plt.ylabel('Fraction of positives')\n",
    "plt.legend()"
   ]
  },
  {
   "cell_type": "markdown",
   "metadata": {},
   "source": [
    "Il grafico mostra come il modello non sia calibrato. In questo caso siamo in presenza di un modello troppo timido, tra 0.5<P<0.9 il rateo di successo del modello sul test set e' stato piu' alto della confidenza in output.\n",
    "\n",
    "Possiamo calibrare il modello usando la classe CalibratedClassifierCV che, prendendo in input il modello originale, allena un classificatore calibrando (usando la tecnica isotonic regression)\n"
   ]
  },
  {
   "cell_type": "code",
   "execution_count": 79,
   "metadata": {},
   "outputs": [
    {
     "data": {
      "text/plain": [
       "CalibratedClassifierCV(base_estimator=RandomForestClassifier(criterion='entropy',\n",
       "                                                             max_depth=6,\n",
       "                                                             min_samples_leaf=5,\n",
       "                                                             n_estimators=50),\n",
       "                       cv=3, method='isotonic')"
      ]
     },
     "execution_count": 79,
     "metadata": {},
     "output_type": "execute_result"
    }
   ],
   "source": [
    "calibrated_clf = CalibratedClassifierCV(base_estimator=clf, cv=3, method='isotonic')\n",
    "calibrated_clf.fit(x_encoder.transform(x_train), y_train)"
   ]
  },
  {
   "cell_type": "markdown",
   "metadata": {},
   "source": [
    "Andiamo a vedere come vada la calibrazione per il classificatore calibrated_clf"
   ]
  },
  {
   "cell_type": "code",
   "execution_count": 82,
   "metadata": {},
   "outputs": [
    {
     "data": {
      "text/plain": [
       "<matplotlib.legend.Legend at 0x2268c4d1a60>"
      ]
     },
     "execution_count": 82,
     "metadata": {},
     "output_type": "execute_result"
    },
    {
     "data": {
      "image/png": "[encoded data removed]",
      "text/plain": [
       "<Figure size 432x288 with 1 Axes>"
      ]
     },
     "metadata": {
      "needs_background": "light"
     },
     "output_type": "display_data"
    }
   ],
   "source": [
    "p_true, p_pred = calibration_curve(y_test, calibrated_clf.predict_proba(x_encoder.transform(x_test))[:, 1])\n",
    "\n",
    "plt.plot(p_pred, p_true, label='model')\n",
    "plt.plot(np.arange(0,1.1,0.1),np.arange(0,1.1,0.1), label='perfectly_calibrated')\n",
    "plt.xlim([0,1])\n",
    "plt.ylim([0,1])\n",
    "plt.xlabel('Mean predicted value')\n",
    "plt.ylabel('Fraction of positives')\n",
    "plt.legend()"
   ]
  },
  {
   "cell_type": "markdown",
   "metadata": {},
   "source": [
    "Molto meglio!"
   ]
  },
  {
   "cell_type": "markdown",
   "metadata": {},
   "source": [
    "# Anomaly detection\n",
    "Utilizziamo 2 librerie incluse in scikit-learn per effettuare analisi delle anomalie.\n",
    "\n",
    "Cominciamo con la tecnica dell'*isolation forest*. Il parametro *contamination* e' il piu' importante quando si utilizza questo tipo di tecnica in quanto richiede di specificare a priori la definizione di outlier"
   ]
  },
  {
   "cell_type": "code",
   "execution_count": 120,
   "metadata": {},
   "outputs": [],
   "source": [
    "isolation_for = IsolationForest(random_state=0, contamination = 0.01).fit(x_encoder.transform(x_train))"
   ]
  },
  {
   "cell_type": "markdown",
   "metadata": {},
   "source": [
    "Troviamo quali punti siano stati identificati come anomalia sul test set\n"
   ]
  },
  {
   "cell_type": "code",
   "execution_count": 121,
   "metadata": {},
   "outputs": [
    {
     "name": "stdout",
     "output_type": "stream",
     "text": [
      "Fraction of outliers: 0.009910802775024777\n"
     ]
    }
   ],
   "source": [
    "anomalies = isolation_for.predict(x_encoder.transform(x_test))\n",
    "i1 = np.where(anomalies==-1)\n",
    "print('Fraction of outliers:',i1[0].shape[0]/x_test.shape[0])"
   ]
  },
  {
   "cell_type": "code",
   "execution_count": 122,
   "metadata": {},
   "outputs": [
    {
     "data": {
      "text/html": [
       "<div>\n",
       "<style scoped>\n",
       "    .dataframe tbody tr th:only-of-type {\n",
       "        vertical-align: middle;\n",
       "    }\n",
       "\n",
       "    .dataframe tbody tr th {\n",
       "        vertical-align: top;\n",
       "    }\n",
       "\n",
       "    .dataframe thead th {\n",
       "        text-align: right;\n",
       "    }\n",
       "</style>\n",
       "<table border=\"1\" class=\"dataframe\">\n",
       "  <thead>\n",
       "    <tr style=\"text-align: right;\">\n",
       "      <th></th>\n",
       "      <th>age</th>\n",
       "      <th>work_class</th>\n",
       "      <th>education</th>\n",
       "      <th>marital_status</th>\n",
       "      <th>occupation</th>\n",
       "      <th>relationship</th>\n",
       "      <th>race</th>\n",
       "      <th>sex</th>\n",
       "      <th>capital_gain</th>\n",
       "      <th>capital_loss</th>\n",
       "      <th>hours_per_week</th>\n",
       "      <th>native_country</th>\n",
       "    </tr>\n",
       "  </thead>\n",
       "  <tbody>\n",
       "    <tr>\n",
       "      <th>146</th>\n",
       "      <td>36</td>\n",
       "      <td>Private</td>\n",
       "      <td>Bachelors</td>\n",
       "      <td>Married</td>\n",
       "      <td>White-Collar</td>\n",
       "      <td>Wife</td>\n",
       "      <td>Asian-Pac-Islander</td>\n",
       "      <td>Female</td>\n",
       "      <td>0.0</td>\n",
       "      <td>0.0</td>\n",
       "      <td>40.0</td>\n",
       "      <td>SE-Asia</td>\n",
       "    </tr>\n",
       "    <tr>\n",
       "      <th>221</th>\n",
       "      <td>21</td>\n",
       "      <td>Private</td>\n",
       "      <td>Dropout</td>\n",
       "      <td>Separated</td>\n",
       "      <td>Sales</td>\n",
       "      <td>Not-in-family</td>\n",
       "      <td>Other</td>\n",
       "      <td>Female</td>\n",
       "      <td>0.0</td>\n",
       "      <td>0.0</td>\n",
       "      <td>30.0</td>\n",
       "      <td>Latin-America</td>\n",
       "    </tr>\n",
       "    <tr>\n",
       "      <th>499</th>\n",
       "      <td>44</td>\n",
       "      <td>Federal-gov</td>\n",
       "      <td>Bachelors</td>\n",
       "      <td>Married</td>\n",
       "      <td>Admin</td>\n",
       "      <td>Husband</td>\n",
       "      <td>Asian-Pac-Islander</td>\n",
       "      <td>Male</td>\n",
       "      <td>0.0</td>\n",
       "      <td>1977.0</td>\n",
       "      <td>40.0</td>\n",
       "      <td>SE-Asia</td>\n",
       "    </tr>\n",
       "    <tr>\n",
       "      <th>505</th>\n",
       "      <td>46</td>\n",
       "      <td>Self-emp-not-inc</td>\n",
       "      <td>High School grad</td>\n",
       "      <td>Separated</td>\n",
       "      <td>Blue-Collar</td>\n",
       "      <td>Not-in-family</td>\n",
       "      <td>Asian-Pac-Islander</td>\n",
       "      <td>Male</td>\n",
       "      <td>0.0</td>\n",
       "      <td>0.0</td>\n",
       "      <td>45.0</td>\n",
       "      <td>British-Commonwealth</td>\n",
       "    </tr>\n",
       "    <tr>\n",
       "      <th>581</th>\n",
       "      <td>48</td>\n",
       "      <td>Local-gov</td>\n",
       "      <td>Masters</td>\n",
       "      <td>Separated</td>\n",
       "      <td>Professional</td>\n",
       "      <td>Unmarried</td>\n",
       "      <td>Asian-Pac-Islander</td>\n",
       "      <td>Female</td>\n",
       "      <td>0.0</td>\n",
       "      <td>0.0</td>\n",
       "      <td>50.0</td>\n",
       "      <td>Latin-America</td>\n",
       "    </tr>\n",
       "    <tr>\n",
       "      <th>...</th>\n",
       "      <td>...</td>\n",
       "      <td>...</td>\n",
       "      <td>...</td>\n",
       "      <td>...</td>\n",
       "      <td>...</td>\n",
       "      <td>...</td>\n",
       "      <td>...</td>\n",
       "      <td>...</td>\n",
       "      <td>...</td>\n",
       "      <td>...</td>\n",
       "      <td>...</td>\n",
       "      <td>...</td>\n",
       "    </tr>\n",
       "    <tr>\n",
       "      <th>9947</th>\n",
       "      <td>49</td>\n",
       "      <td>Self-emp-inc</td>\n",
       "      <td>High School grad</td>\n",
       "      <td>Married</td>\n",
       "      <td>White-Collar</td>\n",
       "      <td>Wife</td>\n",
       "      <td>White</td>\n",
       "      <td>Female</td>\n",
       "      <td>0.0</td>\n",
       "      <td>1977.0</td>\n",
       "      <td>60.0</td>\n",
       "      <td>China</td>\n",
       "    </tr>\n",
       "    <tr>\n",
       "      <th>9984</th>\n",
       "      <td>50</td>\n",
       "      <td>State-gov</td>\n",
       "      <td>Associates</td>\n",
       "      <td>Separated</td>\n",
       "      <td>Admin</td>\n",
       "      <td>Unmarried</td>\n",
       "      <td>White</td>\n",
       "      <td>Female</td>\n",
       "      <td>0.0</td>\n",
       "      <td>0.0</td>\n",
       "      <td>40.0</td>\n",
       "      <td>South-America</td>\n",
       "    </tr>\n",
       "    <tr>\n",
       "      <th>9989</th>\n",
       "      <td>53</td>\n",
       "      <td>Self-emp-inc</td>\n",
       "      <td>Prof-School</td>\n",
       "      <td>Married</td>\n",
       "      <td>Professional</td>\n",
       "      <td>Husband</td>\n",
       "      <td>Asian-Pac-Islander</td>\n",
       "      <td>Male</td>\n",
       "      <td>7298.0</td>\n",
       "      <td>0.0</td>\n",
       "      <td>50.0</td>\n",
       "      <td>SE-Asia</td>\n",
       "    </tr>\n",
       "    <tr>\n",
       "      <th>9992</th>\n",
       "      <td>61</td>\n",
       "      <td>Self-emp-not-inc</td>\n",
       "      <td>Prof-School</td>\n",
       "      <td>Never-Married</td>\n",
       "      <td>Professional</td>\n",
       "      <td>Not-in-family</td>\n",
       "      <td>White</td>\n",
       "      <td>Female</td>\n",
       "      <td>0.0</td>\n",
       "      <td>0.0</td>\n",
       "      <td>30.0</td>\n",
       "      <td>SE-Asia</td>\n",
       "    </tr>\n",
       "    <tr>\n",
       "      <th>10048</th>\n",
       "      <td>80</td>\n",
       "      <td>Local-gov</td>\n",
       "      <td>Dropout</td>\n",
       "      <td>Widowed</td>\n",
       "      <td>Blue-Collar</td>\n",
       "      <td>Not-in-family</td>\n",
       "      <td>Asian-Pac-Islander</td>\n",
       "      <td>Male</td>\n",
       "      <td>1086.0</td>\n",
       "      <td>0.0</td>\n",
       "      <td>20.0</td>\n",
       "      <td>SE-Asia</td>\n",
       "    </tr>\n",
       "  </tbody>\n",
       "</table>\n",
       "<p>100 rows × 12 columns</p>\n",
       "</div>"
      ],
      "text/plain": [
       "       age        work_class         education marital_status    occupation  \\\n",
       "146     36           Private         Bachelors        Married  White-Collar   \n",
       "221     21           Private           Dropout      Separated         Sales   \n",
       "499     44       Federal-gov         Bachelors        Married         Admin   \n",
       "505     46  Self-emp-not-inc  High School grad      Separated   Blue-Collar   \n",
       "581     48         Local-gov           Masters      Separated  Professional   \n",
       "...    ...               ...               ...            ...           ...   \n",
       "9947    49      Self-emp-inc  High School grad        Married  White-Collar   \n",
       "9984    50         State-gov        Associates      Separated         Admin   \n",
       "9989    53      Self-emp-inc       Prof-School        Married  Professional   \n",
       "9992    61  Self-emp-not-inc       Prof-School  Never-Married  Professional   \n",
       "10048   80         Local-gov           Dropout        Widowed   Blue-Collar   \n",
       "\n",
       "        relationship                race     sex  capital_gain  capital_loss  \\\n",
       "146             Wife  Asian-Pac-Islander  Female           0.0           0.0   \n",
       "221    Not-in-family               Other  Female           0.0           0.0   \n",
       "499          Husband  Asian-Pac-Islander    Male           0.0        1977.0   \n",
       "505    Not-in-family  Asian-Pac-Islander    Male           0.0           0.0   \n",
       "581        Unmarried  Asian-Pac-Islander  Female           0.0           0.0   \n",
       "...              ...                 ...     ...           ...           ...   \n",
       "9947            Wife               White  Female           0.0        1977.0   \n",
       "9984       Unmarried               White  Female           0.0           0.0   \n",
       "9989         Husband  Asian-Pac-Islander    Male        7298.0           0.0   \n",
       "9992   Not-in-family               White  Female           0.0           0.0   \n",
       "10048  Not-in-family  Asian-Pac-Islander    Male        1086.0           0.0   \n",
       "\n",
       "       hours_per_week        native_country  \n",
       "146              40.0               SE-Asia  \n",
       "221              30.0         Latin-America  \n",
       "499              40.0               SE-Asia  \n",
       "505              45.0  British-Commonwealth  \n",
       "581              50.0         Latin-America  \n",
       "...               ...                   ...  \n",
       "9947             60.0                 China  \n",
       "9984             40.0         South-America  \n",
       "9989             50.0               SE-Asia  \n",
       "9992             30.0               SE-Asia  \n",
       "10048            20.0               SE-Asia  \n",
       "\n",
       "[100 rows x 12 columns]"
      ]
     },
     "execution_count": 122,
     "metadata": {},
     "output_type": "execute_result"
    }
   ],
   "source": [
    "x_test.iloc[i1[0]]"
   ]
  },
  {
   "cell_type": "markdown",
   "metadata": {},
   "source": [
    "Utilizziamo adesso la tecnica 'Local Outlier Factor'. Anche in questo caso usiamo il parametro *contamination* per definire una soglia di anomalia."
   ]
  },
  {
   "cell_type": "code",
   "execution_count": 124,
   "metadata": {},
   "outputs": [],
   "source": [
    "lof= LocalOutlierFactor(n_neighbors=2, novelty=True, n_jobs=-1, contamination = 0.01).fit(x_encoder.transform(x_train))"
   ]
  },
  {
   "cell_type": "code",
   "execution_count": 125,
   "metadata": {},
   "outputs": [],
   "source": [
    "anomalies_lof = lof.predict(x_encoder.transform(x_test))"
   ]
  },
  {
   "cell_type": "code",
   "execution_count": 126,
   "metadata": {},
   "outputs": [
    {
     "name": "stdout",
     "output_type": "stream",
     "text": [
      "Fraction of outliers: 0.010505450941526264\n"
     ]
    }
   ],
   "source": [
    "i1 = np.where(anomalies_lof==-1)\n",
    "print('Fraction of outliers:',i1[0].shape[0]/x_test.shape[0])"
   ]
  },
  {
   "cell_type": "code",
   "execution_count": 127,
   "metadata": {},
   "outputs": [
    {
     "data": {
      "text/html": [
       "<div>\n",
       "<style scoped>\n",
       "    .dataframe tbody tr th:only-of-type {\n",
       "        vertical-align: middle;\n",
       "    }\n",
       "\n",
       "    .dataframe tbody tr th {\n",
       "        vertical-align: top;\n",
       "    }\n",
       "\n",
       "    .dataframe thead th {\n",
       "        text-align: right;\n",
       "    }\n",
       "</style>\n",
       "<table border=\"1\" class=\"dataframe\">\n",
       "  <thead>\n",
       "    <tr style=\"text-align: right;\">\n",
       "      <th></th>\n",
       "      <th>age</th>\n",
       "      <th>work_class</th>\n",
       "      <th>education</th>\n",
       "      <th>marital_status</th>\n",
       "      <th>occupation</th>\n",
       "      <th>relationship</th>\n",
       "      <th>race</th>\n",
       "      <th>sex</th>\n",
       "      <th>capital_gain</th>\n",
       "      <th>capital_loss</th>\n",
       "      <th>hours_per_week</th>\n",
       "      <th>native_country</th>\n",
       "    </tr>\n",
       "  </thead>\n",
       "  <tbody>\n",
       "    <tr>\n",
       "      <th>12</th>\n",
       "      <td>19</td>\n",
       "      <td>Private</td>\n",
       "      <td>High School grad</td>\n",
       "      <td>Married</td>\n",
       "      <td>Service</td>\n",
       "      <td>Own-child</td>\n",
       "      <td>White</td>\n",
       "      <td>Female</td>\n",
       "      <td>0.0</td>\n",
       "      <td>0.0</td>\n",
       "      <td>15.0</td>\n",
       "      <td>United-States</td>\n",
       "    </tr>\n",
       "    <tr>\n",
       "      <th>202</th>\n",
       "      <td>25</td>\n",
       "      <td>Private</td>\n",
       "      <td>Bachelors</td>\n",
       "      <td>Never-Married</td>\n",
       "      <td>White-Collar</td>\n",
       "      <td>Not-in-family</td>\n",
       "      <td>Asian-Pac-Islander</td>\n",
       "      <td>Female</td>\n",
       "      <td>0.0</td>\n",
       "      <td>0.0</td>\n",
       "      <td>40.0</td>\n",
       "      <td>United-States</td>\n",
       "    </tr>\n",
       "    <tr>\n",
       "      <th>338</th>\n",
       "      <td>24</td>\n",
       "      <td>Private</td>\n",
       "      <td>Bachelors</td>\n",
       "      <td>Never-Married</td>\n",
       "      <td>Other</td>\n",
       "      <td>Not-in-family</td>\n",
       "      <td>Asian-Pac-Islander</td>\n",
       "      <td>Male</td>\n",
       "      <td>0.0</td>\n",
       "      <td>0.0</td>\n",
       "      <td>40.0</td>\n",
       "      <td>United-States</td>\n",
       "    </tr>\n",
       "    <tr>\n",
       "      <th>567</th>\n",
       "      <td>40</td>\n",
       "      <td>Self-emp-not-inc</td>\n",
       "      <td>High School grad</td>\n",
       "      <td>Separated</td>\n",
       "      <td>Blue-Collar</td>\n",
       "      <td>Unmarried</td>\n",
       "      <td>White</td>\n",
       "      <td>Female</td>\n",
       "      <td>0.0</td>\n",
       "      <td>0.0</td>\n",
       "      <td>38.0</td>\n",
       "      <td>United-States</td>\n",
       "    </tr>\n",
       "    <tr>\n",
       "      <th>625</th>\n",
       "      <td>42</td>\n",
       "      <td>Self-emp-not-inc</td>\n",
       "      <td>High School grad</td>\n",
       "      <td>Separated</td>\n",
       "      <td>Blue-Collar</td>\n",
       "      <td>Not-in-family</td>\n",
       "      <td>White</td>\n",
       "      <td>Female</td>\n",
       "      <td>0.0</td>\n",
       "      <td>0.0</td>\n",
       "      <td>40.0</td>\n",
       "      <td>United-States</td>\n",
       "    </tr>\n",
       "    <tr>\n",
       "      <th>...</th>\n",
       "      <td>...</td>\n",
       "      <td>...</td>\n",
       "      <td>...</td>\n",
       "      <td>...</td>\n",
       "      <td>...</td>\n",
       "      <td>...</td>\n",
       "      <td>...</td>\n",
       "      <td>...</td>\n",
       "      <td>...</td>\n",
       "      <td>...</td>\n",
       "      <td>...</td>\n",
       "      <td>...</td>\n",
       "    </tr>\n",
       "    <tr>\n",
       "      <th>9735</th>\n",
       "      <td>46</td>\n",
       "      <td>Private</td>\n",
       "      <td>High School grad</td>\n",
       "      <td>Never-Married</td>\n",
       "      <td>White-Collar</td>\n",
       "      <td>Not-in-family</td>\n",
       "      <td>White</td>\n",
       "      <td>Male</td>\n",
       "      <td>8614.0</td>\n",
       "      <td>0.0</td>\n",
       "      <td>50.0</td>\n",
       "      <td>United-States</td>\n",
       "    </tr>\n",
       "    <tr>\n",
       "      <th>9769</th>\n",
       "      <td>38</td>\n",
       "      <td>Federal-gov</td>\n",
       "      <td>Associates</td>\n",
       "      <td>Separated</td>\n",
       "      <td>Admin</td>\n",
       "      <td>Unmarried</td>\n",
       "      <td>White</td>\n",
       "      <td>Female</td>\n",
       "      <td>1471.0</td>\n",
       "      <td>0.0</td>\n",
       "      <td>40.0</td>\n",
       "      <td>United-States</td>\n",
       "    </tr>\n",
       "    <tr>\n",
       "      <th>9924</th>\n",
       "      <td>32</td>\n",
       "      <td>Private</td>\n",
       "      <td>High School grad</td>\n",
       "      <td>Never-Married</td>\n",
       "      <td>Blue-Collar</td>\n",
       "      <td>Not-in-family</td>\n",
       "      <td>White</td>\n",
       "      <td>Male</td>\n",
       "      <td>0.0</td>\n",
       "      <td>0.0</td>\n",
       "      <td>40.0</td>\n",
       "      <td>Japan</td>\n",
       "    </tr>\n",
       "    <tr>\n",
       "      <th>10028</th>\n",
       "      <td>19</td>\n",
       "      <td>Private</td>\n",
       "      <td>Dropout</td>\n",
       "      <td>Never-Married</td>\n",
       "      <td>Other</td>\n",
       "      <td>Own-child</td>\n",
       "      <td>White</td>\n",
       "      <td>Male</td>\n",
       "      <td>0.0</td>\n",
       "      <td>0.0</td>\n",
       "      <td>40.0</td>\n",
       "      <td>United-States</td>\n",
       "    </tr>\n",
       "    <tr>\n",
       "      <th>10078</th>\n",
       "      <td>31</td>\n",
       "      <td>Private</td>\n",
       "      <td>High School grad</td>\n",
       "      <td>Separated</td>\n",
       "      <td>Blue-Collar</td>\n",
       "      <td>Not-in-family</td>\n",
       "      <td>White</td>\n",
       "      <td>Male</td>\n",
       "      <td>0.0</td>\n",
       "      <td>0.0</td>\n",
       "      <td>40.0</td>\n",
       "      <td>Latin-America</td>\n",
       "    </tr>\n",
       "  </tbody>\n",
       "</table>\n",
       "<p>106 rows × 12 columns</p>\n",
       "</div>"
      ],
      "text/plain": [
       "       age        work_class         education marital_status    occupation  \\\n",
       "12      19           Private  High School grad        Married       Service   \n",
       "202     25           Private         Bachelors  Never-Married  White-Collar   \n",
       "338     24           Private         Bachelors  Never-Married         Other   \n",
       "567     40  Self-emp-not-inc  High School grad      Separated   Blue-Collar   \n",
       "625     42  Self-emp-not-inc  High School grad      Separated   Blue-Collar   \n",
       "...    ...               ...               ...            ...           ...   \n",
       "9735    46           Private  High School grad  Never-Married  White-Collar   \n",
       "9769    38       Federal-gov        Associates      Separated         Admin   \n",
       "9924    32           Private  High School grad  Never-Married   Blue-Collar   \n",
       "10028   19           Private           Dropout  Never-Married         Other   \n",
       "10078   31           Private  High School grad      Separated   Blue-Collar   \n",
       "\n",
       "        relationship                race     sex  capital_gain  capital_loss  \\\n",
       "12         Own-child               White  Female           0.0           0.0   \n",
       "202    Not-in-family  Asian-Pac-Islander  Female           0.0           0.0   \n",
       "338    Not-in-family  Asian-Pac-Islander    Male           0.0           0.0   \n",
       "567        Unmarried               White  Female           0.0           0.0   \n",
       "625    Not-in-family               White  Female           0.0           0.0   \n",
       "...              ...                 ...     ...           ...           ...   \n",
       "9735   Not-in-family               White    Male        8614.0           0.0   \n",
       "9769       Unmarried               White  Female        1471.0           0.0   \n",
       "9924   Not-in-family               White    Male           0.0           0.0   \n",
       "10028      Own-child               White    Male           0.0           0.0   \n",
       "10078  Not-in-family               White    Male           0.0           0.0   \n",
       "\n",
       "       hours_per_week native_country  \n",
       "12               15.0  United-States  \n",
       "202              40.0  United-States  \n",
       "338              40.0  United-States  \n",
       "567              38.0  United-States  \n",
       "625              40.0  United-States  \n",
       "...               ...            ...  \n",
       "9735             50.0  United-States  \n",
       "9769             40.0  United-States  \n",
       "9924             40.0          Japan  \n",
       "10028            40.0  United-States  \n",
       "10078            40.0  Latin-America  \n",
       "\n",
       "[106 rows x 12 columns]"
      ]
     },
     "execution_count": 127,
     "metadata": {},
     "output_type": "execute_result"
    }
   ],
   "source": [
    "x_test.iloc[i1[0]]"
   ]
  },
  {
   "cell_type": "code",
   "execution_count": null,
   "metadata": {},
   "outputs": [],
   "source": []
  }
 ],
 "metadata": {
  "kernelspec": {
   "display_name": "Python 3",
   "language": "python",
   "name": "python3"
  }
 },
 "nbformat": 4,
 "nbformat_minor": 2
}
